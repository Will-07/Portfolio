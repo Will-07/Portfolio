{
 "cells": [
  {
   "cell_type": "code",
   "execution_count": 34,
   "id": "5830c701",
   "metadata": {},
   "outputs": [],
   "source": []
  },
  {
   "cell_type": "code",
   "execution_count": 77,
   "id": "509dc4cf",
   "metadata": {},
   "outputs": [
    {
     "name": "stdout",
     "output_type": "stream",
     "text": [
      "0.0058616239130412345\n"
     ]
    }
   ],
   "source": [
    "#task 1 asks us to calculate the ratio between the amplitude of the wavefunction\n",
    "#of a particle before and after a potential barrier.\n",
    "import matplotlib.pyplot as plt\n",
    "import numpy as np\n",
    "\n",
    "mass = 9.1e-31\n",
    "energy = 1.6e-19\n",
    "hbar = 1.05e-34\n",
    "U0 = 2*1.6e-19\n",
    "w = 1e-9\n",
    "\n",
    "PenDist = hbar/(np.sqrt(2*mass*(U0-energy)))\n",
    "Al = energy\n",
    "Ar = Al*np.exp(-w/PenDist)\n",
    "ratio = Ar/Al\n",
    "print(ratio)\n",
    "#This first section of code defines the properties of the electron and barrier\n",
    "#as global variables to find the ratio: I did this to understand the equations\n",
    "#I needed"
   ]
  },
  {
   "cell_type": "code",
   "execution_count": 82,
   "id": "002c63fe",
   "metadata": {},
   "outputs": [
    {
     "name": "stdout",
     "output_type": "stream",
     "text": [
      "0.5981385520051642\n",
      "0.0058616239130412345\n",
      "3.4358634897936835e-05\n"
     ]
    }
   ],
   "source": [
    "hbar = 1.05e-34\n",
    "class waveFuncRatio: #introduce a class so i can input different values\n",
    "    #for particle and barrier properties.\n",
    "    def __init__(self, width=0.1e-9, potential=2*1.6e-19, energy=1.6e-19, mass=9.1e-31):\n",
    "        self.w = width\n",
    "        self.U = potential\n",
    "        self.E = energy\n",
    "        self.m = mass\n",
    "        \n",
    "    def calcPenDist(self):\n",
    "            self.penDist = hbar/(np.sqrt(2*self.m*(self.U-self.E)))\n",
    "            return self.penDist\n",
    "        \n",
    "    def calcRatio(self):\n",
    "        Al = self.E\n",
    "        Ar = Al*np.exp(-self.w/self.penDist)\n",
    "        self.ratio = Ar/Al\n",
    "        return self.ratio\n",
    "        \n",
    "electron = waveFuncRatio(width = 0.1e-9)\n",
    "electron.calcPenDist(); electron.calcRatio()\n",
    "print(electron.ratio)\n",
    "electron = waveFuncRatio(width = 1e-9)\n",
    "electron.calcPenDist(); electron.calcRatio()\n",
    "print(electron.ratio)\n",
    "electron = waveFuncRatio(width = 2e-9)\n",
    "electron.calcPenDist(); electron.calcRatio()\n",
    "print(electron.ratio)      \n"
   ]
  },
  {
   "cell_type": "code",
   "execution_count": null,
   "id": "628f7a99",
   "metadata": {},
   "outputs": [],
   "source": [
    "#the three ratios i get are getting smaller as the width of the barrier is increased, which makes sense, as you would expect\n",
    "#that as the barrier gets larger, the porbability of the particle tunneling through it will decrese, ie the energy of the\n",
    "#particle after the barrier will be smaller. The same goes for if the particle has less energy before the barrier, or is more\n",
    "#massive.\n",
    "\n",
    "#To create a barrier like this in real life is by applying an electric field to a material. The field creates a potential \n",
    "#difference across the material which can act as a barrier to the flow of particles, that only thoe with enough energy can pass.\n"
   ]
  }
 ],
 "metadata": {
  "kernelspec": {
   "display_name": "Python 3 (ipykernel)",
   "language": "python",
   "name": "python3"
  },
  "language_info": {
   "codemirror_mode": {
    "name": "ipython",
    "version": 3
   },
   "file_extension": ".py",
   "mimetype": "text/x-python",
   "name": "python",
   "nbconvert_exporter": "python",
   "pygments_lexer": "ipython3",
   "version": "3.9.7"
  }
 },
 "nbformat": 4,
 "nbformat_minor": 5
}
