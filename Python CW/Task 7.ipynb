{
 "cells": [
  {
   "cell_type": "code",
   "execution_count": 163,
   "id": "c9ef7dd7",
   "metadata": {},
   "outputs": [
    {
     "data": {
      "image/png": "[encoded data removed]",
      "text/plain": [
       "<Figure size 432x288 with 1 Axes>"
      ]
     },
     "metadata": {
      "needs_background": "light"
     },
     "output_type": "display_data"
    },
    {
     "name": "stdout",
     "output_type": "stream",
     "text": [
      "Work done =  4940.633072612639\n",
      "delta Q = 6033.456\n",
      "efficiency = 0.8188728106432928\n"
     ]
    }
   ],
   "source": [
    "import matplotlib.pyplot as plt\n",
    "import numpy as np\n",
    "Cm = 20.8\n",
    "R = 8.31\n",
    "\n",
    "Pi = 1e5\n",
    "Vi = 1e-3\n",
    "Ti = 293\n",
    "Vf = 1\n",
    "gamma = 5/3\n",
    "n = (Pi*Vi)/(R*Ti)\n",
    "Pf = 1/(Vf**gamma)\n",
    "Tf = (Pf*Vf)/(n*R)\n",
    "deltaT = Ti-Tf\n",
    "deltaQ = Cm*deltaT\n",
    "a = -(Pi-Pf)/(Vi-Vf)\n",
    "P0 = Pi + a*Vi\n",
    "\n",
    "Vadiabatic = np.arange(Vi,Vf,0.01)\n",
    "Padiabatic = np.zeros(len(Vadiabatic))\n",
    "\n",
    "for i in range(0,len(Vadiabatic)):\n",
    "    Padiabatic[i] = (1/Vadiabatic[i]**gamma)\n",
    "plt.plot(Vadiabatic,Padiabatic)\n",
    "\n",
    "Vlinear = np.arange(Vi,Vf,0.01)\n",
    "Plinear = np.zeros(len(Vlinear))\n",
    "\n",
    "\n",
    "for i in range(0,len(Vlinear)):\n",
    "    Plinear[i] = (-a*Vlinear[i] + P0)\n",
    "    \n",
    "plt.plot(Vlinear,Plinear)\n",
    "plt.show()\n",
    "work = np.trapz(Plinear, dx = 1e-3)- np.trapz(Padiabatic, dx = 1e-3)\n",
    "\n",
    "print('Work done = ', work)\n",
    "print('delta Q =', deltaQ)\n",
    "efficiency = work/deltaQ\n",
    "print ('efficiency =', efficiency)\n"
   ]
  },
  {
   "cell_type": "code",
   "execution_count": null,
   "id": "a47e7f8a",
   "metadata": {},
   "outputs": [],
   "source": [
    "#This question didn't make a whole lot of sense. The values given didn't fit the equations we were told to use (initial pressure\n",
    "#temp, volume and number of moles didn't fit the ideal gas law.) To get around this I assumed that number of moles wasn't set,\n",
    "#as this won't affect the volume and pressure. The efficiency I calculated is 82.9%, which seems far to high as the efficiency \n",
    "#of a carnot engine is ~25%, and that is the theoretical maximum for an engine. One way which this might be explained is that \n",
    "#the second branch is an imaginary linear compression, which cannot happen. This will be lead to a greater amount of work done \n",
    "#on the system than the carnot cycle."
   ]
  },
  {
   "cell_type": "code",
   "execution_count": null,
   "id": "c96cd115",
   "metadata": {},
   "outputs": [],
   "source": []
  }
 ],
 "metadata": {
  "kernelspec": {
   "display_name": "Python 3 (ipykernel)",
   "language": "python",
   "name": "python3"
  },
  "language_info": {
   "codemirror_mode": {
    "name": "ipython",
    "version": 3
   },
   "file_extension": ".py",
   "mimetype": "text/x-python",
   "name": "python",
   "nbconvert_exporter": "python",
   "pygments_lexer": "ipython3",
   "version": "3.9.7"
  }
 },
 "nbformat": 4,
 "nbformat_minor": 5
}
